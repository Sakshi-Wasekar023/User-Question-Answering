{
 "cells": [
  {
   "cell_type": "code",
   "execution_count": 1,
   "metadata": {
    "id": "RfOOt-miv_qg"
   },
   "outputs": [],
   "source": [
    "import random\n",
    "import json\n",
    "import pickle\n",
    "import numpy as np\n",
    "import nltk\n",
    "from nltk.stem import WordNetLemmatizer"
   ]
  },
  {
   "cell_type": "code",
   "execution_count": 2,
   "metadata": {
    "id": "NQxGFEvHw_ol"
   },
   "outputs": [],
   "source": [
    "# preprocessing starts here\n",
    "lemmatizer= WordNetLemmatizer()"
   ]
  },
  {
   "cell_type": "code",
   "execution_count": 5,
   "metadata": {
    "id": "Y2AUJkyexFA9"
   },
   "outputs": [],
   "source": [
    "intents= json.loads(open('intents.json').read())\n",
    "words=[]\n",
    "classes=[]\n",
    "documents= []\n",
    "ignore_letters=['?','!','.',',']"
   ]
  },
  {
   "cell_type": "code",
   "execution_count": 10,
   "metadata": {},
   "outputs": [
    {
     "name": "stderr",
     "output_type": "stream",
     "text": [
      "[nltk_data] Downloading package punkt to /home/user/nltk_data...\n",
      "[nltk_data]   Package punkt is already up-to-date!\n"
     ]
    },
    {
     "data": {
      "text/plain": [
       "True"
      ]
     },
     "execution_count": 10,
     "metadata": {},
     "output_type": "execute_result"
    }
   ],
   "source": [
    "import nltk\n",
    "nltk.download('punkt')\n"
   ]
  },
  {
   "cell_type": "code",
   "execution_count": 12,
   "metadata": {},
   "outputs": [
    {
     "name": "stdout",
     "output_type": "stream",
     "text": [
      "punkt tokenizer is available.\n"
     ]
    }
   ],
   "source": [
    "import nltk\n",
    "\n",
    "try:\n",
    "    nltk.data.find('tokenizers/punkt')\n",
    "    print(\"punkt tokenizer is available.\")\n",
    "except LookupError:\n",
    "    print(\"punkt tokenizer not found. Downloading...\")\n",
    "    nltk.download('punkt')\n"
   ]
  },
  {
   "cell_type": "code",
   "execution_count": 14,
   "metadata": {
    "id": "EuVY6NDQxeV2"
   },
   "outputs": [
    {
     "ename": "LookupError",
     "evalue": "\n**********************************************************************\n  Resource \u001b[93mpunkt_tab\u001b[0m not found.\n  Please use the NLTK Downloader to obtain the resource:\n\n  \u001b[31m>>> import nltk\n  >>> nltk.download('punkt_tab')\n  \u001b[0m\n  For more information see: https://www.nltk.org/data.html\n\n  Attempted to load \u001b[93mtokenizers/punkt_tab/english/\u001b[0m\n\n  Searched in:\n    - '/home/user/nltk_data'\n    - '/usr/nltk_data'\n    - '/usr/share/nltk_data'\n    - '/usr/lib/nltk_data'\n    - '/usr/share/nltk_data'\n    - '/usr/local/share/nltk_data'\n    - '/usr/lib/nltk_data'\n    - '/usr/local/lib/nltk_data'\n**********************************************************************\n",
     "output_type": "error",
     "traceback": [
      "\u001b[0;31m---------------------------------------------------------------------------\u001b[0m",
      "\u001b[0;31mLookupError\u001b[0m                               Traceback (most recent call last)",
      "Cell \u001b[0;32mIn[14], line 17\u001b[0m\n\u001b[1;32m     15\u001b[0m \u001b[38;5;28;01mfor\u001b[39;00m intent \u001b[38;5;129;01min\u001b[39;00m intents[\u001b[38;5;124m'\u001b[39m\u001b[38;5;124mintents\u001b[39m\u001b[38;5;124m'\u001b[39m]:\n\u001b[1;32m     16\u001b[0m     \u001b[38;5;28;01mfor\u001b[39;00m pattern \u001b[38;5;129;01min\u001b[39;00m intent[\u001b[38;5;124m'\u001b[39m\u001b[38;5;124mpatterns\u001b[39m\u001b[38;5;124m'\u001b[39m]:\n\u001b[0;32m---> 17\u001b[0m         word_list \u001b[38;5;241m=\u001b[39m \u001b[43mword_tokenize\u001b[49m\u001b[43m(\u001b[49m\u001b[43mpattern\u001b[49m\u001b[43m)\u001b[49m\n\u001b[1;32m     18\u001b[0m         words\u001b[38;5;241m.\u001b[39mextend(word_list)\n\u001b[1;32m     19\u001b[0m         documents\u001b[38;5;241m.\u001b[39mappend((word_list, intent[\u001b[38;5;124m'\u001b[39m\u001b[38;5;124mtag\u001b[39m\u001b[38;5;124m'\u001b[39m]))\n",
      "File \u001b[0;32m~/.local/lib/python3.10/site-packages/nltk/tokenize/__init__.py:142\u001b[0m, in \u001b[0;36mword_tokenize\u001b[0;34m(text, language, preserve_line)\u001b[0m\n\u001b[1;32m    127\u001b[0m \u001b[38;5;28;01mdef\u001b[39;00m\u001b[38;5;250m \u001b[39m\u001b[38;5;21mword_tokenize\u001b[39m(text, language\u001b[38;5;241m=\u001b[39m\u001b[38;5;124m\"\u001b[39m\u001b[38;5;124menglish\u001b[39m\u001b[38;5;124m\"\u001b[39m, preserve_line\u001b[38;5;241m=\u001b[39m\u001b[38;5;28;01mFalse\u001b[39;00m):\n\u001b[1;32m    128\u001b[0m \u001b[38;5;250m    \u001b[39m\u001b[38;5;124;03m\"\"\"\u001b[39;00m\n\u001b[1;32m    129\u001b[0m \u001b[38;5;124;03m    Return a tokenized copy of *text*,\u001b[39;00m\n\u001b[1;32m    130\u001b[0m \u001b[38;5;124;03m    using NLTK's recommended word tokenizer\u001b[39;00m\n\u001b[0;32m   (...)\u001b[0m\n\u001b[1;32m    140\u001b[0m \u001b[38;5;124;03m    :type preserve_line: bool\u001b[39;00m\n\u001b[1;32m    141\u001b[0m \u001b[38;5;124;03m    \"\"\"\u001b[39;00m\n\u001b[0;32m--> 142\u001b[0m     sentences \u001b[38;5;241m=\u001b[39m [text] \u001b[38;5;28;01mif\u001b[39;00m preserve_line \u001b[38;5;28;01melse\u001b[39;00m \u001b[43msent_tokenize\u001b[49m\u001b[43m(\u001b[49m\u001b[43mtext\u001b[49m\u001b[43m,\u001b[49m\u001b[43m \u001b[49m\u001b[43mlanguage\u001b[49m\u001b[43m)\u001b[49m\n\u001b[1;32m    143\u001b[0m     \u001b[38;5;28;01mreturn\u001b[39;00m [\n\u001b[1;32m    144\u001b[0m         token \u001b[38;5;28;01mfor\u001b[39;00m sent \u001b[38;5;129;01min\u001b[39;00m sentences \u001b[38;5;28;01mfor\u001b[39;00m token \u001b[38;5;129;01min\u001b[39;00m _treebank_word_tokenizer\u001b[38;5;241m.\u001b[39mtokenize(sent)\n\u001b[1;32m    145\u001b[0m     ]\n",
      "File \u001b[0;32m~/.local/lib/python3.10/site-packages/nltk/tokenize/__init__.py:119\u001b[0m, in \u001b[0;36msent_tokenize\u001b[0;34m(text, language)\u001b[0m\n\u001b[1;32m    109\u001b[0m \u001b[38;5;28;01mdef\u001b[39;00m\u001b[38;5;250m \u001b[39m\u001b[38;5;21msent_tokenize\u001b[39m(text, language\u001b[38;5;241m=\u001b[39m\u001b[38;5;124m\"\u001b[39m\u001b[38;5;124menglish\u001b[39m\u001b[38;5;124m\"\u001b[39m):\n\u001b[1;32m    110\u001b[0m \u001b[38;5;250m    \u001b[39m\u001b[38;5;124;03m\"\"\"\u001b[39;00m\n\u001b[1;32m    111\u001b[0m \u001b[38;5;124;03m    Return a sentence-tokenized copy of *text*,\u001b[39;00m\n\u001b[1;32m    112\u001b[0m \u001b[38;5;124;03m    using NLTK's recommended sentence tokenizer\u001b[39;00m\n\u001b[0;32m   (...)\u001b[0m\n\u001b[1;32m    117\u001b[0m \u001b[38;5;124;03m    :param language: the model name in the Punkt corpus\u001b[39;00m\n\u001b[1;32m    118\u001b[0m \u001b[38;5;124;03m    \"\"\"\u001b[39;00m\n\u001b[0;32m--> 119\u001b[0m     tokenizer \u001b[38;5;241m=\u001b[39m \u001b[43m_get_punkt_tokenizer\u001b[49m\u001b[43m(\u001b[49m\u001b[43mlanguage\u001b[49m\u001b[43m)\u001b[49m\n\u001b[1;32m    120\u001b[0m     \u001b[38;5;28;01mreturn\u001b[39;00m tokenizer\u001b[38;5;241m.\u001b[39mtokenize(text)\n",
      "File \u001b[0;32m~/.local/lib/python3.10/site-packages/nltk/tokenize/__init__.py:105\u001b[0m, in \u001b[0;36m_get_punkt_tokenizer\u001b[0;34m(language)\u001b[0m\n\u001b[1;32m     96\u001b[0m \u001b[38;5;129m@functools\u001b[39m\u001b[38;5;241m.\u001b[39mlru_cache\n\u001b[1;32m     97\u001b[0m \u001b[38;5;28;01mdef\u001b[39;00m\u001b[38;5;250m \u001b[39m\u001b[38;5;21m_get_punkt_tokenizer\u001b[39m(language\u001b[38;5;241m=\u001b[39m\u001b[38;5;124m\"\u001b[39m\u001b[38;5;124menglish\u001b[39m\u001b[38;5;124m\"\u001b[39m):\n\u001b[1;32m     98\u001b[0m \u001b[38;5;250m    \u001b[39m\u001b[38;5;124;03m\"\"\"\u001b[39;00m\n\u001b[1;32m     99\u001b[0m \u001b[38;5;124;03m    A constructor for the PunktTokenizer that utilizes\u001b[39;00m\n\u001b[1;32m    100\u001b[0m \u001b[38;5;124;03m    a lru cache for performance.\u001b[39;00m\n\u001b[0;32m   (...)\u001b[0m\n\u001b[1;32m    103\u001b[0m \u001b[38;5;124;03m    :type language: str\u001b[39;00m\n\u001b[1;32m    104\u001b[0m \u001b[38;5;124;03m    \"\"\"\u001b[39;00m\n\u001b[0;32m--> 105\u001b[0m     \u001b[38;5;28;01mreturn\u001b[39;00m \u001b[43mPunktTokenizer\u001b[49m\u001b[43m(\u001b[49m\u001b[43mlanguage\u001b[49m\u001b[43m)\u001b[49m\n",
      "File \u001b[0;32m~/.local/lib/python3.10/site-packages/nltk/tokenize/punkt.py:1744\u001b[0m, in \u001b[0;36mPunktTokenizer.__init__\u001b[0;34m(self, lang)\u001b[0m\n\u001b[1;32m   1742\u001b[0m \u001b[38;5;28;01mdef\u001b[39;00m\u001b[38;5;250m \u001b[39m\u001b[38;5;21m__init__\u001b[39m(\u001b[38;5;28mself\u001b[39m, lang\u001b[38;5;241m=\u001b[39m\u001b[38;5;124m\"\u001b[39m\u001b[38;5;124menglish\u001b[39m\u001b[38;5;124m\"\u001b[39m):\n\u001b[1;32m   1743\u001b[0m     PunktSentenceTokenizer\u001b[38;5;241m.\u001b[39m\u001b[38;5;21m__init__\u001b[39m(\u001b[38;5;28mself\u001b[39m)\n\u001b[0;32m-> 1744\u001b[0m     \u001b[38;5;28;43mself\u001b[39;49m\u001b[38;5;241;43m.\u001b[39;49m\u001b[43mload_lang\u001b[49m\u001b[43m(\u001b[49m\u001b[43mlang\u001b[49m\u001b[43m)\u001b[49m\n",
      "File \u001b[0;32m~/.local/lib/python3.10/site-packages/nltk/tokenize/punkt.py:1749\u001b[0m, in \u001b[0;36mPunktTokenizer.load_lang\u001b[0;34m(self, lang)\u001b[0m\n\u001b[1;32m   1746\u001b[0m \u001b[38;5;28;01mdef\u001b[39;00m\u001b[38;5;250m \u001b[39m\u001b[38;5;21mload_lang\u001b[39m(\u001b[38;5;28mself\u001b[39m, lang\u001b[38;5;241m=\u001b[39m\u001b[38;5;124m\"\u001b[39m\u001b[38;5;124menglish\u001b[39m\u001b[38;5;124m\"\u001b[39m):\n\u001b[1;32m   1747\u001b[0m     \u001b[38;5;28;01mfrom\u001b[39;00m\u001b[38;5;250m \u001b[39m\u001b[38;5;21;01mnltk\u001b[39;00m\u001b[38;5;21;01m.\u001b[39;00m\u001b[38;5;21;01mdata\u001b[39;00m\u001b[38;5;250m \u001b[39m\u001b[38;5;28;01mimport\u001b[39;00m find\n\u001b[0;32m-> 1749\u001b[0m     lang_dir \u001b[38;5;241m=\u001b[39m \u001b[43mfind\u001b[49m\u001b[43m(\u001b[49m\u001b[38;5;124;43mf\u001b[39;49m\u001b[38;5;124;43m\"\u001b[39;49m\u001b[38;5;124;43mtokenizers/punkt_tab/\u001b[39;49m\u001b[38;5;132;43;01m{\u001b[39;49;00m\u001b[43mlang\u001b[49m\u001b[38;5;132;43;01m}\u001b[39;49;00m\u001b[38;5;124;43m/\u001b[39;49m\u001b[38;5;124;43m\"\u001b[39;49m\u001b[43m)\u001b[49m\n\u001b[1;32m   1750\u001b[0m     \u001b[38;5;28mself\u001b[39m\u001b[38;5;241m.\u001b[39m_params \u001b[38;5;241m=\u001b[39m load_punkt_params(lang_dir)\n\u001b[1;32m   1751\u001b[0m     \u001b[38;5;28mself\u001b[39m\u001b[38;5;241m.\u001b[39m_lang \u001b[38;5;241m=\u001b[39m lang\n",
      "File \u001b[0;32m~/.local/lib/python3.10/site-packages/nltk/data.py:579\u001b[0m, in \u001b[0;36mfind\u001b[0;34m(resource_name, paths)\u001b[0m\n\u001b[1;32m    577\u001b[0m sep \u001b[38;5;241m=\u001b[39m \u001b[38;5;124m\"\u001b[39m\u001b[38;5;124m*\u001b[39m\u001b[38;5;124m\"\u001b[39m \u001b[38;5;241m*\u001b[39m \u001b[38;5;241m70\u001b[39m\n\u001b[1;32m    578\u001b[0m resource_not_found \u001b[38;5;241m=\u001b[39m \u001b[38;5;124mf\u001b[39m\u001b[38;5;124m\"\u001b[39m\u001b[38;5;130;01m\\n\u001b[39;00m\u001b[38;5;132;01m{\u001b[39;00msep\u001b[38;5;132;01m}\u001b[39;00m\u001b[38;5;130;01m\\n\u001b[39;00m\u001b[38;5;132;01m{\u001b[39;00mmsg\u001b[38;5;132;01m}\u001b[39;00m\u001b[38;5;130;01m\\n\u001b[39;00m\u001b[38;5;132;01m{\u001b[39;00msep\u001b[38;5;132;01m}\u001b[39;00m\u001b[38;5;130;01m\\n\u001b[39;00m\u001b[38;5;124m\"\u001b[39m\n\u001b[0;32m--> 579\u001b[0m \u001b[38;5;28;01mraise\u001b[39;00m \u001b[38;5;167;01mLookupError\u001b[39;00m(resource_not_found)\n",
      "\u001b[0;31mLookupError\u001b[0m: \n**********************************************************************\n  Resource \u001b[93mpunkt_tab\u001b[0m not found.\n  Please use the NLTK Downloader to obtain the resource:\n\n  \u001b[31m>>> import nltk\n  >>> nltk.download('punkt_tab')\n  \u001b[0m\n  For more information see: https://www.nltk.org/data.html\n\n  Attempted to load \u001b[93mtokenizers/punkt_tab/english/\u001b[0m\n\n  Searched in:\n    - '/home/user/nltk_data'\n    - '/usr/nltk_data'\n    - '/usr/share/nltk_data'\n    - '/usr/lib/nltk_data'\n    - '/usr/share/nltk_data'\n    - '/usr/local/share/nltk_data'\n    - '/usr/lib/nltk_data'\n    - '/usr/local/lib/nltk_data'\n**********************************************************************\n"
     ]
    }
   ],
   "source": [
    "import nltk\n",
    "import os\n",
    "\n",
    "# Manually specify where to store the tokenizer\n",
    "nltk_data_path = os.path.expanduser('~/nltk_data')\n",
    "nltk.data.path.append(nltk_data_path)\n",
    "\n",
    "# Create the path if it doesn't exist\n",
    "os.makedirs(nltk_data_path, exist_ok=True)\n",
    "\n",
    "# Force download punkt\n",
    "nltk.download('punkt', download_dir=nltk_data_path)\n",
    "\n",
    "# Verify punkt exists\n",
    "try:\n",
    "    nltk.data.find('tokenizers/punkt')\n",
    "    print(\"✅ punkt tokenizer is available.\")\n",
    "except LookupError:\n",
    "    print(\"❌ punkt tokenizer not found.\")\n"
   ]
  },
  {
   "cell_type": "code",
   "execution_count": null,
   "metadata": {},
   "outputs": [],
   "source": []
  },
  {
   "cell_type": "code",
   "execution_count": null,
   "metadata": {
    "id": "iCESwrwdyzTK"
   },
   "outputs": [],
   "source": [
    "words= [lemmatizer.lemmatize(word) for word in words if word not in ignore_letters]\n",
    "words= sorted(set(words))\n",
    "classes = sorted(set(classes))\n",
    "\n",
    "pickle.dump(words, open('words.pkl','wb'))\n",
    "pickle.dump(classes, open('classes.pkl', 'wb'))"
   ]
  },
  {
   "cell_type": "code",
   "execution_count": null,
   "metadata": {
    "id": "KfuinaQzznRv"
   },
   "outputs": [],
   "source": [
    "training= []\n",
    "output_empty = [0]*len(classes)"
   ]
  },
  {
   "cell_type": "code",
   "execution_count": null,
   "metadata": {
    "id": "3n7FTqS_0mSz"
   },
   "outputs": [],
   "source": [
    "for document in documents:\n",
    "  bag= []\n",
    "  word_patterns = document[0]\n",
    "  word_patterns = [lemmatizer.lemmatize(word.lower()) for word in word_patterns]\n",
    "  for word in words:\n",
    "    bag.append(1) if word in word_patterns else bag.append(0)\n",
    "\n",
    "  output_row = list(output_empty)\n",
    "  output_row[classes.index(document[1])] = 1\n",
    "  training.append([bag, output_row])"
   ]
  },
  {
   "cell_type": "code",
   "execution_count": null,
   "metadata": {
    "colab": {
     "base_uri": "https://localhost:8080/"
    },
    "id": "qzk8PO9D1l6v",
    "outputId": "2adfe5a7-a4ce-497f-cf21-ba0f1413a0e3"
   },
   "outputs": [
    {
     "name": "stderr",
     "output_type": "stream",
     "text": [
      "<ipython-input-46-cc0bc1dae1db>:2: VisibleDeprecationWarning: Creating an ndarray from ragged nested sequences (which is a list-or-tuple of lists-or-tuples-or ndarrays with different lengths or shapes) is deprecated. If you meant to do this, you must specify 'dtype=object' when creating the ndarray.\n",
      "  training = np.array(training)\n"
     ]
    }
   ],
   "source": [
    "random.shuffle(training)\n",
    "training = np.array(training)"
   ]
  },
  {
   "cell_type": "code",
   "execution_count": null,
   "metadata": {
    "id": "u-ukIMSV1518"
   },
   "outputs": [],
   "source": [
    "# segregating dependent and independent variables\n",
    "train_x = list(training[:,0])\n",
    "train_y = list(training[:,1])"
   ]
  },
  {
   "cell_type": "code",
   "execution_count": null,
   "metadata": {
    "id": "ohJrdWL_5lm7"
   },
   "outputs": [],
   "source": [
    "from tensorflow.keras.models import Sequential\n",
    "from tensorflow.keras.layers import Dense , Activation, Dropout\n",
    "from tensorflow.keras.optimizers import SGD, Adam"
   ]
  },
  {
   "cell_type": "code",
   "execution_count": null,
   "metadata": {
    "id": "YzKk6RLU2K8y"
   },
   "outputs": [],
   "source": [
    "# Building the model\n",
    "model_finale= Sequential()\n",
    "model_finale.add(Dense(128, input_shape=(len(train_x[0]),), activation='relu'))\n",
    "model_finale.add(Dropout(0.5))\n",
    "model_finale.add(Dense(64, activation='relu'))\n",
    "model_finale.add(Dropout(0.5))\n",
    "model_finale.add(Dense(len(train_y[0]), activation = 'softmax'))\n",
    "\n",
    "# sgd = SGD( decay= 1e-6, momentum=0.9, nesterov=True)\n",
    "\n",
    "model_finale.compile(loss= 'categorical_crossentropy', optimizer= 'Adam', metrics=['accuracy'])"
   ]
  },
  {
   "cell_type": "code",
   "execution_count": null,
   "metadata": {
    "colab": {
     "base_uri": "https://localhost:8080/"
    },
    "id": "9oNnTMG83qNX",
    "outputId": "d24d7216-0540-43d3-99d8-539167f38d1e"
   },
   "outputs": [
    {
     "name": "stdout",
     "output_type": "stream",
     "text": [
      "Epoch 1/200\n",
      "12/12 [==============================] - 2s 7ms/step - loss: 1.8162 - accuracy: 0.2167\n",
      "Epoch 2/200\n",
      "12/12 [==============================] - 0s 6ms/step - loss: 1.7515 - accuracy: 0.2833\n",
      "Epoch 3/200\n",
      "12/12 [==============================] - 0s 7ms/step - loss: 1.7044 - accuracy: 0.3000\n",
      "Epoch 4/200\n",
      "12/12 [==============================] - 0s 6ms/step - loss: 1.6097 - accuracy: 0.4000\n",
      "Epoch 5/200\n",
      "12/12 [==============================] - 0s 3ms/step - loss: 1.5767 - accuracy: 0.4500\n",
      "Epoch 6/200\n",
      "12/12 [==============================] - 0s 3ms/step - loss: 1.5775 - accuracy: 0.4333\n",
      "Epoch 7/200\n",
      "12/12 [==============================] - 0s 3ms/step - loss: 1.5379 - accuracy: 0.4500\n",
      "Epoch 8/200\n",
      "12/12 [==============================] - 0s 3ms/step - loss: 1.4546 - accuracy: 0.5833\n",
      "Epoch 9/200\n",
      "12/12 [==============================] - 0s 3ms/step - loss: 1.3919 - accuracy: 0.5667\n",
      "Epoch 10/200\n",
      "12/12 [==============================] - 0s 3ms/step - loss: 1.3381 - accuracy: 0.7500\n",
      "Epoch 11/200\n",
      "12/12 [==============================] - 0s 3ms/step - loss: 1.2444 - accuracy: 0.6167\n",
      "Epoch 12/200\n",
      "12/12 [==============================] - 0s 3ms/step - loss: 1.1799 - accuracy: 0.8000\n",
      "Epoch 13/200\n",
      "12/12 [==============================] - 0s 3ms/step - loss: 1.1873 - accuracy: 0.7667\n",
      "Epoch 14/200\n",
      "12/12 [==============================] - 0s 3ms/step - loss: 1.0430 - accuracy: 0.8000\n",
      "Epoch 15/200\n",
      "12/12 [==============================] - 0s 4ms/step - loss: 0.9257 - accuracy: 0.8333\n",
      "Epoch 16/200\n",
      "12/12 [==============================] - 0s 3ms/step - loss: 0.8672 - accuracy: 0.8167\n",
      "Epoch 17/200\n",
      "12/12 [==============================] - 0s 3ms/step - loss: 0.7822 - accuracy: 0.8333\n",
      "Epoch 18/200\n",
      "12/12 [==============================] - 0s 3ms/step - loss: 0.7607 - accuracy: 0.8333\n",
      "Epoch 19/200\n",
      "12/12 [==============================] - 0s 3ms/step - loss: 0.6810 - accuracy: 0.8500\n",
      "Epoch 20/200\n",
      "12/12 [==============================] - 0s 3ms/step - loss: 0.6887 - accuracy: 0.8500\n",
      "Epoch 21/200\n",
      "12/12 [==============================] - 0s 3ms/step - loss: 0.5826 - accuracy: 0.8833\n",
      "Epoch 22/200\n",
      "12/12 [==============================] - 0s 3ms/step - loss: 0.4835 - accuracy: 0.9333\n",
      "Epoch 23/200\n",
      "12/12 [==============================] - 0s 4ms/step - loss: 0.4644 - accuracy: 0.9667\n",
      "Epoch 24/200\n",
      "12/12 [==============================] - 0s 3ms/step - loss: 0.4827 - accuracy: 0.9000\n",
      "Epoch 25/200\n",
      "12/12 [==============================] - 0s 3ms/step - loss: 0.4266 - accuracy: 0.9167\n",
      "Epoch 26/200\n",
      "12/12 [==============================] - 0s 3ms/step - loss: 0.3852 - accuracy: 0.9500\n",
      "Epoch 27/200\n",
      "12/12 [==============================] - 0s 3ms/step - loss: 0.3775 - accuracy: 0.9167\n",
      "Epoch 28/200\n",
      "12/12 [==============================] - 0s 3ms/step - loss: 0.3168 - accuracy: 0.9333\n",
      "Epoch 29/200\n",
      "12/12 [==============================] - 0s 3ms/step - loss: 0.2551 - accuracy: 0.9500\n",
      "Epoch 30/200\n",
      "12/12 [==============================] - 0s 4ms/step - loss: 0.2885 - accuracy: 0.9667\n",
      "Epoch 31/200\n",
      "12/12 [==============================] - 0s 4ms/step - loss: 0.2632 - accuracy: 0.9833\n",
      "Epoch 32/200\n",
      "12/12 [==============================] - 0s 3ms/step - loss: 0.2454 - accuracy: 0.9667\n",
      "Epoch 33/200\n",
      "12/12 [==============================] - 0s 3ms/step - loss: 0.2369 - accuracy: 0.9667\n",
      "Epoch 34/200\n",
      "12/12 [==============================] - 0s 3ms/step - loss: 0.2054 - accuracy: 0.9667\n",
      "Epoch 35/200\n",
      "12/12 [==============================] - 0s 3ms/step - loss: 0.2340 - accuracy: 0.9500\n",
      "Epoch 36/200\n",
      "12/12 [==============================] - 0s 4ms/step - loss: 0.1655 - accuracy: 0.9833\n",
      "Epoch 37/200\n",
      "12/12 [==============================] - 0s 3ms/step - loss: 0.1921 - accuracy: 0.9833\n",
      "Epoch 38/200\n",
      "12/12 [==============================] - 0s 3ms/step - loss: 0.1429 - accuracy: 0.9833\n",
      "Epoch 39/200\n",
      "12/12 [==============================] - 0s 3ms/step - loss: 0.1328 - accuracy: 0.9667\n",
      "Epoch 40/200\n",
      "12/12 [==============================] - 0s 4ms/step - loss: 0.1528 - accuracy: 0.9833\n",
      "Epoch 41/200\n",
      "12/12 [==============================] - 0s 3ms/step - loss: 0.1400 - accuracy: 0.9833\n",
      "Epoch 42/200\n",
      "12/12 [==============================] - 0s 3ms/step - loss: 0.1177 - accuracy: 0.9833\n",
      "Epoch 43/200\n",
      "12/12 [==============================] - 0s 3ms/step - loss: 0.1142 - accuracy: 1.0000\n",
      "Epoch 44/200\n",
      "12/12 [==============================] - 0s 3ms/step - loss: 0.1142 - accuracy: 1.0000\n",
      "Epoch 45/200\n",
      "12/12 [==============================] - 0s 3ms/step - loss: 0.1656 - accuracy: 1.0000\n",
      "Epoch 46/200\n",
      "12/12 [==============================] - 0s 3ms/step - loss: 0.0893 - accuracy: 0.9833\n",
      "Epoch 47/200\n",
      "12/12 [==============================] - 0s 3ms/step - loss: 0.0786 - accuracy: 1.0000\n",
      "Epoch 48/200\n",
      "12/12 [==============================] - 0s 4ms/step - loss: 0.1284 - accuracy: 0.9667\n",
      "Epoch 49/200\n",
      "12/12 [==============================] - 0s 4ms/step - loss: 0.1192 - accuracy: 0.9667\n",
      "Epoch 50/200\n",
      "12/12 [==============================] - 0s 3ms/step - loss: 0.1101 - accuracy: 0.9667\n",
      "Epoch 51/200\n",
      "12/12 [==============================] - 0s 3ms/step - loss: 0.1056 - accuracy: 0.9833\n",
      "Epoch 52/200\n",
      "12/12 [==============================] - 0s 3ms/step - loss: 0.1103 - accuracy: 0.9833\n",
      "Epoch 53/200\n",
      "12/12 [==============================] - 0s 3ms/step - loss: 0.0675 - accuracy: 1.0000\n",
      "Epoch 54/200\n",
      "12/12 [==============================] - 0s 3ms/step - loss: 0.0511 - accuracy: 1.0000\n",
      "Epoch 55/200\n",
      "12/12 [==============================] - 0s 3ms/step - loss: 0.0789 - accuracy: 0.9833\n",
      "Epoch 56/200\n",
      "12/12 [==============================] - 0s 3ms/step - loss: 0.0640 - accuracy: 1.0000\n",
      "Epoch 57/200\n",
      "12/12 [==============================] - 0s 4ms/step - loss: 0.0661 - accuracy: 1.0000\n",
      "Epoch 58/200\n",
      "12/12 [==============================] - 0s 4ms/step - loss: 0.0964 - accuracy: 0.9667\n",
      "Epoch 59/200\n",
      "12/12 [==============================] - 0s 4ms/step - loss: 0.0340 - accuracy: 1.0000\n",
      "Epoch 60/200\n",
      "12/12 [==============================] - 0s 3ms/step - loss: 0.0776 - accuracy: 0.9833\n",
      "Epoch 61/200\n",
      "12/12 [==============================] - 0s 3ms/step - loss: 0.1347 - accuracy: 0.9667\n",
      "Epoch 62/200\n",
      "12/12 [==============================] - 0s 3ms/step - loss: 0.0551 - accuracy: 1.0000\n",
      "Epoch 63/200\n",
      "12/12 [==============================] - 0s 4ms/step - loss: 0.0582 - accuracy: 1.0000\n",
      "Epoch 64/200\n",
      "12/12 [==============================] - 0s 3ms/step - loss: 0.0456 - accuracy: 1.0000\n",
      "Epoch 65/200\n",
      "12/12 [==============================] - 0s 3ms/step - loss: 0.0444 - accuracy: 1.0000\n",
      "Epoch 66/200\n",
      "12/12 [==============================] - 0s 3ms/step - loss: 0.0542 - accuracy: 1.0000\n",
      "Epoch 67/200\n",
      "12/12 [==============================] - 0s 3ms/step - loss: 0.0454 - accuracy: 1.0000\n",
      "Epoch 68/200\n",
      "12/12 [==============================] - 0s 3ms/step - loss: 0.0268 - accuracy: 1.0000\n",
      "Epoch 69/200\n",
      "12/12 [==============================] - 0s 3ms/step - loss: 0.0467 - accuracy: 1.0000\n",
      "Epoch 70/200\n",
      "12/12 [==============================] - 0s 3ms/step - loss: 0.0495 - accuracy: 0.9833\n",
      "Epoch 71/200\n",
      "12/12 [==============================] - 0s 3ms/step - loss: 0.0392 - accuracy: 1.0000\n",
      "Epoch 72/200\n",
      "12/12 [==============================] - 0s 4ms/step - loss: 0.0538 - accuracy: 1.0000\n",
      "Epoch 73/200\n",
      "12/12 [==============================] - 0s 3ms/step - loss: 0.0441 - accuracy: 0.9833\n",
      "Epoch 74/200\n",
      "12/12 [==============================] - 0s 3ms/step - loss: 0.0325 - accuracy: 1.0000\n",
      "Epoch 75/200\n",
      "12/12 [==============================] - 0s 3ms/step - loss: 0.0645 - accuracy: 0.9833\n",
      "Epoch 76/200\n",
      "12/12 [==============================] - 0s 3ms/step - loss: 0.0329 - accuracy: 1.0000\n",
      "Epoch 77/200\n",
      "12/12 [==============================] - 0s 3ms/step - loss: 0.0267 - accuracy: 1.0000\n",
      "Epoch 78/200\n",
      "12/12 [==============================] - 0s 3ms/step - loss: 0.0536 - accuracy: 1.0000\n",
      "Epoch 79/200\n",
      "12/12 [==============================] - 0s 4ms/step - loss: 0.0767 - accuracy: 0.9667\n",
      "Epoch 80/200\n",
      "12/12 [==============================] - 0s 3ms/step - loss: 0.0422 - accuracy: 1.0000\n",
      "Epoch 81/200\n",
      "12/12 [==============================] - 0s 3ms/step - loss: 0.0212 - accuracy: 1.0000\n",
      "Epoch 82/200\n",
      "12/12 [==============================] - 0s 3ms/step - loss: 0.0385 - accuracy: 1.0000\n",
      "Epoch 83/200\n",
      "12/12 [==============================] - 0s 4ms/step - loss: 0.0253 - accuracy: 1.0000\n",
      "Epoch 84/200\n",
      "12/12 [==============================] - 0s 3ms/step - loss: 0.0081 - accuracy: 1.0000\n",
      "Epoch 85/200\n",
      "12/12 [==============================] - 0s 3ms/step - loss: 0.0291 - accuracy: 0.9833\n",
      "Epoch 86/200\n",
      "12/12 [==============================] - 0s 4ms/step - loss: 0.0362 - accuracy: 1.0000\n",
      "Epoch 87/200\n",
      "12/12 [==============================] - 0s 4ms/step - loss: 0.0336 - accuracy: 1.0000\n",
      "Epoch 88/200\n",
      "12/12 [==============================] - 0s 4ms/step - loss: 0.0182 - accuracy: 1.0000\n",
      "Epoch 89/200\n",
      "12/12 [==============================] - 0s 4ms/step - loss: 0.0323 - accuracy: 1.0000\n",
      "Epoch 90/200\n",
      "12/12 [==============================] - 0s 4ms/step - loss: 0.0195 - accuracy: 1.0000\n",
      "Epoch 91/200\n",
      "12/12 [==============================] - 0s 4ms/step - loss: 0.0507 - accuracy: 0.9833\n",
      "Epoch 92/200\n",
      "12/12 [==============================] - 0s 4ms/step - loss: 0.0262 - accuracy: 1.0000\n",
      "Epoch 93/200\n",
      "12/12 [==============================] - 0s 4ms/step - loss: 0.0203 - accuracy: 1.0000\n",
      "Epoch 94/200\n",
      "12/12 [==============================] - 0s 3ms/step - loss: 0.0270 - accuracy: 1.0000\n",
      "Epoch 95/200\n",
      "12/12 [==============================] - 0s 4ms/step - loss: 0.0484 - accuracy: 0.9667\n",
      "Epoch 96/200\n",
      "12/12 [==============================] - 0s 4ms/step - loss: 0.0384 - accuracy: 1.0000\n",
      "Epoch 97/200\n",
      "12/12 [==============================] - 0s 3ms/step - loss: 0.0232 - accuracy: 1.0000\n",
      "Epoch 98/200\n",
      "12/12 [==============================] - 0s 3ms/step - loss: 0.0243 - accuracy: 1.0000\n",
      "Epoch 99/200\n",
      "12/12 [==============================] - 0s 4ms/step - loss: 0.0272 - accuracy: 0.9833\n",
      "Epoch 100/200\n",
      "12/12 [==============================] - 0s 3ms/step - loss: 0.0152 - accuracy: 1.0000\n",
      "Epoch 101/200\n",
      "12/12 [==============================] - 0s 3ms/step - loss: 0.0279 - accuracy: 1.0000\n",
      "Epoch 102/200\n",
      "12/12 [==============================] - 0s 3ms/step - loss: 0.0070 - accuracy: 1.0000\n",
      "Epoch 103/200\n",
      "12/12 [==============================] - 0s 3ms/step - loss: 0.0151 - accuracy: 1.0000\n",
      "Epoch 104/200\n",
      "12/12 [==============================] - 0s 3ms/step - loss: 0.0418 - accuracy: 0.9833\n",
      "Epoch 105/200\n",
      "12/12 [==============================] - 0s 3ms/step - loss: 0.0129 - accuracy: 1.0000\n",
      "Epoch 106/200\n",
      "12/12 [==============================] - 0s 3ms/step - loss: 0.0147 - accuracy: 1.0000\n",
      "Epoch 107/200\n",
      "12/12 [==============================] - 0s 3ms/step - loss: 0.0276 - accuracy: 0.9833\n",
      "Epoch 108/200\n",
      "12/12 [==============================] - 0s 3ms/step - loss: 0.0141 - accuracy: 1.0000\n",
      "Epoch 109/200\n",
      "12/12 [==============================] - 0s 3ms/step - loss: 0.0097 - accuracy: 1.0000\n",
      "Epoch 110/200\n",
      "12/12 [==============================] - 0s 3ms/step - loss: 0.0112 - accuracy: 1.0000\n",
      "Epoch 111/200\n",
      "12/12 [==============================] - 0s 3ms/step - loss: 0.0171 - accuracy: 1.0000\n",
      "Epoch 112/200\n",
      "12/12 [==============================] - 0s 3ms/step - loss: 0.0177 - accuracy: 1.0000\n",
      "Epoch 113/200\n",
      "12/12 [==============================] - 0s 4ms/step - loss: 0.0161 - accuracy: 1.0000\n",
      "Epoch 114/200\n",
      "12/12 [==============================] - 0s 3ms/step - loss: 0.0159 - accuracy: 1.0000\n",
      "Epoch 115/200\n",
      "12/12 [==============================] - 0s 3ms/step - loss: 0.0104 - accuracy: 1.0000\n",
      "Epoch 116/200\n",
      "12/12 [==============================] - 0s 3ms/step - loss: 0.0154 - accuracy: 1.0000\n",
      "Epoch 117/200\n",
      "12/12 [==============================] - 0s 3ms/step - loss: 0.0227 - accuracy: 1.0000\n",
      "Epoch 118/200\n",
      "12/12 [==============================] - 0s 3ms/step - loss: 0.0196 - accuracy: 1.0000\n",
      "Epoch 119/200\n",
      "12/12 [==============================] - 0s 3ms/step - loss: 0.0232 - accuracy: 1.0000\n",
      "Epoch 120/200\n",
      "12/12 [==============================] - 0s 4ms/step - loss: 0.0097 - accuracy: 1.0000\n",
      "Epoch 121/200\n",
      "12/12 [==============================] - 0s 3ms/step - loss: 0.0089 - accuracy: 1.0000\n",
      "Epoch 122/200\n",
      "12/12 [==============================] - 0s 4ms/step - loss: 0.0079 - accuracy: 1.0000\n",
      "Epoch 123/200\n",
      "12/12 [==============================] - 0s 3ms/step - loss: 0.0073 - accuracy: 1.0000\n",
      "Epoch 124/200\n",
      "12/12 [==============================] - 0s 3ms/step - loss: 0.0057 - accuracy: 1.0000\n",
      "Epoch 125/200\n",
      "12/12 [==============================] - 0s 3ms/step - loss: 0.0037 - accuracy: 1.0000\n",
      "Epoch 126/200\n",
      "12/12 [==============================] - 0s 3ms/step - loss: 0.0132 - accuracy: 1.0000\n",
      "Epoch 127/200\n",
      "12/12 [==============================] - 0s 3ms/step - loss: 0.0097 - accuracy: 1.0000\n",
      "Epoch 128/200\n",
      "12/12 [==============================] - 0s 3ms/step - loss: 0.0074 - accuracy: 1.0000\n",
      "Epoch 129/200\n",
      "12/12 [==============================] - 0s 3ms/step - loss: 0.0265 - accuracy: 1.0000\n",
      "Epoch 130/200\n",
      "12/12 [==============================] - 0s 4ms/step - loss: 0.0185 - accuracy: 1.0000\n",
      "Epoch 131/200\n",
      "12/12 [==============================] - 0s 3ms/step - loss: 0.0061 - accuracy: 1.0000\n",
      "Epoch 132/200\n",
      "12/12 [==============================] - 0s 3ms/step - loss: 0.0095 - accuracy: 1.0000\n",
      "Epoch 133/200\n",
      "12/12 [==============================] - 0s 3ms/step - loss: 0.0205 - accuracy: 1.0000\n",
      "Epoch 134/200\n",
      "12/12 [==============================] - 0s 3ms/step - loss: 0.0159 - accuracy: 1.0000\n",
      "Epoch 135/200\n",
      "12/12 [==============================] - 0s 3ms/step - loss: 0.0041 - accuracy: 1.0000\n",
      "Epoch 136/200\n",
      "12/12 [==============================] - 0s 3ms/step - loss: 0.0193 - accuracy: 1.0000\n",
      "Epoch 137/200\n",
      "12/12 [==============================] - 0s 3ms/step - loss: 0.0164 - accuracy: 1.0000\n",
      "Epoch 138/200\n",
      "12/12 [==============================] - 0s 3ms/step - loss: 0.0172 - accuracy: 1.0000\n",
      "Epoch 139/200\n",
      "12/12 [==============================] - 0s 3ms/step - loss: 0.0072 - accuracy: 1.0000\n",
      "Epoch 140/200\n",
      "12/12 [==============================] - 0s 3ms/step - loss: 0.0140 - accuracy: 1.0000\n",
      "Epoch 141/200\n",
      "12/12 [==============================] - 0s 3ms/step - loss: 0.0123 - accuracy: 1.0000\n",
      "Epoch 142/200\n",
      "12/12 [==============================] - 0s 4ms/step - loss: 0.0150 - accuracy: 1.0000\n",
      "Epoch 143/200\n",
      "12/12 [==============================] - 0s 3ms/step - loss: 0.0142 - accuracy: 1.0000\n",
      "Epoch 144/200\n",
      "12/12 [==============================] - 0s 3ms/step - loss: 0.0120 - accuracy: 1.0000\n",
      "Epoch 145/200\n",
      "12/12 [==============================] - 0s 4ms/step - loss: 0.0088 - accuracy: 1.0000\n",
      "Epoch 146/200\n",
      "12/12 [==============================] - 0s 4ms/step - loss: 0.0233 - accuracy: 0.9833\n",
      "Epoch 147/200\n",
      "12/12 [==============================] - 0s 4ms/step - loss: 0.0075 - accuracy: 1.0000\n",
      "Epoch 148/200\n",
      "12/12 [==============================] - 0s 3ms/step - loss: 0.0067 - accuracy: 1.0000\n",
      "Epoch 149/200\n",
      "12/12 [==============================] - 0s 3ms/step - loss: 0.0074 - accuracy: 1.0000\n",
      "Epoch 150/200\n",
      "12/12 [==============================] - 0s 3ms/step - loss: 0.0087 - accuracy: 1.0000\n",
      "Epoch 151/200\n",
      "12/12 [==============================] - 0s 3ms/step - loss: 0.0031 - accuracy: 1.0000\n",
      "Epoch 152/200\n",
      "12/12 [==============================] - 0s 3ms/step - loss: 0.0117 - accuracy: 1.0000\n",
      "Epoch 153/200\n",
      "12/12 [==============================] - 0s 3ms/step - loss: 0.0077 - accuracy: 1.0000\n",
      "Epoch 154/200\n",
      "12/12 [==============================] - 0s 3ms/step - loss: 0.0041 - accuracy: 1.0000\n",
      "Epoch 155/200\n",
      "12/12 [==============================] - 0s 4ms/step - loss: 0.0060 - accuracy: 1.0000\n",
      "Epoch 156/200\n",
      "12/12 [==============================] - 0s 3ms/step - loss: 0.0121 - accuracy: 1.0000\n",
      "Epoch 157/200\n",
      "12/12 [==============================] - 0s 3ms/step - loss: 0.0088 - accuracy: 1.0000\n",
      "Epoch 158/200\n",
      "12/12 [==============================] - 0s 3ms/step - loss: 0.0078 - accuracy: 1.0000\n",
      "Epoch 159/200\n",
      "12/12 [==============================] - 0s 3ms/step - loss: 0.0464 - accuracy: 0.9833\n",
      "Epoch 160/200\n",
      "12/12 [==============================] - 0s 3ms/step - loss: 0.0366 - accuracy: 0.9833\n",
      "Epoch 161/200\n",
      "12/12 [==============================] - 0s 3ms/step - loss: 0.0058 - accuracy: 1.0000\n",
      "Epoch 162/200\n",
      "12/12 [==============================] - 0s 3ms/step - loss: 0.0105 - accuracy: 1.0000\n",
      "Epoch 163/200\n",
      "12/12 [==============================] - 0s 3ms/step - loss: 0.0084 - accuracy: 1.0000\n",
      "Epoch 164/200\n",
      "12/12 [==============================] - 0s 3ms/step - loss: 0.0068 - accuracy: 1.0000\n",
      "Epoch 165/200\n",
      "12/12 [==============================] - 0s 3ms/step - loss: 0.0030 - accuracy: 1.0000\n",
      "Epoch 166/200\n",
      "12/12 [==============================] - 0s 3ms/step - loss: 0.0300 - accuracy: 0.9833\n",
      "Epoch 167/200\n",
      "12/12 [==============================] - 0s 3ms/step - loss: 0.0076 - accuracy: 1.0000\n",
      "Epoch 168/200\n",
      "12/12 [==============================] - 0s 3ms/step - loss: 0.0023 - accuracy: 1.0000\n",
      "Epoch 169/200\n",
      "12/12 [==============================] - 0s 3ms/step - loss: 0.0048 - accuracy: 1.0000\n",
      "Epoch 170/200\n",
      "12/12 [==============================] - 0s 3ms/step - loss: 0.0154 - accuracy: 1.0000\n",
      "Epoch 171/200\n",
      "12/12 [==============================] - 0s 3ms/step - loss: 0.0179 - accuracy: 0.9833\n",
      "Epoch 172/200\n",
      "12/12 [==============================] - 0s 3ms/step - loss: 0.0041 - accuracy: 1.0000\n",
      "Epoch 173/200\n",
      "12/12 [==============================] - 0s 3ms/step - loss: 0.0057 - accuracy: 1.0000\n",
      "Epoch 174/200\n",
      "12/12 [==============================] - 0s 3ms/step - loss: 0.0050 - accuracy: 1.0000\n",
      "Epoch 175/200\n",
      "12/12 [==============================] - 0s 3ms/step - loss: 0.0153 - accuracy: 1.0000\n",
      "Epoch 176/200\n",
      "12/12 [==============================] - 0s 3ms/step - loss: 0.0091 - accuracy: 1.0000\n",
      "Epoch 177/200\n",
      "12/12 [==============================] - 0s 3ms/step - loss: 0.0057 - accuracy: 1.0000\n",
      "Epoch 178/200\n",
      "12/12 [==============================] - 0s 3ms/step - loss: 0.0374 - accuracy: 0.9833\n",
      "Epoch 179/200\n",
      "12/12 [==============================] - 0s 3ms/step - loss: 0.0102 - accuracy: 1.0000\n",
      "Epoch 180/200\n",
      "12/12 [==============================] - 0s 4ms/step - loss: 0.0073 - accuracy: 1.0000\n",
      "Epoch 181/200\n",
      "12/12 [==============================] - 0s 3ms/step - loss: 0.0062 - accuracy: 1.0000\n",
      "Epoch 182/200\n",
      "12/12 [==============================] - 0s 3ms/step - loss: 0.0094 - accuracy: 1.0000\n",
      "Epoch 183/200\n",
      "12/12 [==============================] - 0s 3ms/step - loss: 0.0056 - accuracy: 1.0000\n",
      "Epoch 184/200\n",
      "12/12 [==============================] - 0s 3ms/step - loss: 0.0249 - accuracy: 1.0000\n",
      "Epoch 185/200\n",
      "12/12 [==============================] - 0s 4ms/step - loss: 0.0041 - accuracy: 1.0000\n",
      "Epoch 186/200\n",
      "12/12 [==============================] - 0s 5ms/step - loss: 0.0030 - accuracy: 1.0000\n",
      "Epoch 187/200\n",
      "12/12 [==============================] - 0s 5ms/step - loss: 0.0033 - accuracy: 1.0000\n",
      "Epoch 188/200\n",
      "12/12 [==============================] - 0s 4ms/step - loss: 0.0024 - accuracy: 1.0000\n",
      "Epoch 189/200\n",
      "12/12 [==============================] - 0s 4ms/step - loss: 0.0028 - accuracy: 1.0000\n",
      "Epoch 190/200\n",
      "12/12 [==============================] - 0s 4ms/step - loss: 0.0075 - accuracy: 1.0000\n",
      "Epoch 191/200\n",
      "12/12 [==============================] - 0s 4ms/step - loss: 0.0047 - accuracy: 1.0000\n",
      "Epoch 192/200\n",
      "12/12 [==============================] - 0s 4ms/step - loss: 0.0043 - accuracy: 1.0000\n",
      "Epoch 193/200\n",
      "12/12 [==============================] - 0s 4ms/step - loss: 0.0276 - accuracy: 1.0000\n",
      "Epoch 194/200\n",
      "12/12 [==============================] - 0s 4ms/step - loss: 0.0160 - accuracy: 1.0000\n",
      "Epoch 195/200\n",
      "12/12 [==============================] - 0s 5ms/step - loss: 0.0070 - accuracy: 1.0000\n",
      "Epoch 196/200\n",
      "12/12 [==============================] - 0s 4ms/step - loss: 0.0035 - accuracy: 1.0000\n",
      "Epoch 197/200\n",
      "12/12 [==============================] - 0s 4ms/step - loss: 0.0016 - accuracy: 1.0000\n",
      "Epoch 198/200\n",
      "12/12 [==============================] - 0s 4ms/step - loss: 0.0034 - accuracy: 1.0000\n",
      "Epoch 199/200\n",
      "12/12 [==============================] - 0s 5ms/step - loss: 0.0066 - accuracy: 1.0000\n",
      "Epoch 200/200\n",
      "12/12 [==============================] - 0s 4ms/step - loss: 0.0063 - accuracy: 1.0000\n"
     ]
    }
   ],
   "source": [
    "hist2 = model_finale.fit(np.array(train_x), np.array(train_y), epochs=200, batch_size=5, verbose=1)\n"
   ]
  },
  {
   "cell_type": "code",
   "execution_count": null,
   "metadata": {
    "colab": {
     "base_uri": "https://localhost:8080/"
    },
    "id": "UJKI9B6F35AY",
    "outputId": "ef64c891-bc5e-4b5f-a36a-dfda7e4b0bee"
   },
   "outputs": [
    {
     "name": "stderr",
     "output_type": "stream",
     "text": [
      "/usr/local/lib/python3.10/dist-packages/keras/src/engine/training.py:3103: UserWarning: You are saving your model as an HDF5 file via `model.save()`. This file format is considered legacy. We recommend using instead the native Keras format, e.g. `model.save('my_model.keras')`.\n",
      "  saving_api.save_model(\n"
     ]
    }
   ],
   "source": [
    "model_finale.save('chatbot_model.h5', hist2)"
   ]
  }
 ],
 "metadata": {
  "accelerator": "GPU",
  "colab": {
   "gpuType": "T4",
   "provenance": []
  },
  "kernelspec": {
   "display_name": "Python 3 (ipykernel)",
   "language": "python",
   "name": "python3"
  },
  "language_info": {
   "codemirror_mode": {
    "name": "ipython",
    "version": 3
   },
   "file_extension": ".py",
   "mimetype": "text/x-python",
   "name": "python",
   "nbconvert_exporter": "python",
   "pygments_lexer": "ipython3",
   "version": "3.10.12"
  }
 },
 "nbformat": 4,
 "nbformat_minor": 4
}
